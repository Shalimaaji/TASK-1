{
  "nbformat": 4,
  "nbformat_minor": 0,
  "metadata": {
    "colab": {
      "provenance": [],
      "collapsed_sections": [],
      "authorship_tag": "ABX9TyM2Tqb6WcbO5zvvyIvn4G9X",
      "include_colab_link": true
    },
    "kernelspec": {
      "name": "python3",
      "display_name": "Python 3"
    },
    "language_info": {
      "name": "python"
    }
  },
  "cells": [
    {
      "cell_type": "markdown",
      "metadata": {
        "id": "view-in-github",
        "colab_type": "text"
      },
      "source": [
        "<a href=\"https://colab.research.google.com/github/Shalimaaji/TASK-1/blob/main/TASK_1.ipynb\" target=\"_parent\"><img src=\"https://colab.research.google.com/assets/colab-badge.svg\" alt=\"Open In Colab\"/></a>"
      ]
    },
    {
      "cell_type": "code",
      "source": [
        "def register():\n",
        "    username = input(\"Please input your desired username:\")\n",
        "    password = input(\"Please input your desired password:\")\n",
        "    file = open(\"accountfile.txt\",\"a\")\n",
        "    file.write(username)\n",
        "    file.write(\" \")\n",
        "    file.write(password)\n",
        "    file.write(\"\\n\")\n",
        "    file.close()\n",
        "    if login():\n",
        "        print(\"You are now logged in...\")\n",
        "    else:\n",
        "        print(\"You aren't logged in!\")\n",
        "\n",
        "def login():\n",
        "    username = input(\"Please enter your username\")\n",
        "    password = input(\"Please enter your password\")  \n",
        "    for line in open(\"accountfile.txt\",\"r\").readlines():\n",
        "        login_info = line.split()\n",
        "        if username == login_info[0] and password == login_info[1]:\n",
        "            print(\"Correct credentials!\")\n",
        "            return True\n",
        "    print(\"Incorrect credentials.\")\n",
        "    return False"
      ],
      "metadata": {
        "id": "3lVY-bErfm5R"
      },
      "execution_count": 4,
      "outputs": []
    }
  ]
}